{
 "cells": [
  {
   "cell_type": "code",
   "execution_count": 1,
   "metadata": {},
   "outputs": [],
   "source": [
    "import asyncio\n",
    "import time\n",
    "from datetime import datetime\n",
    "from functools import wraps\n",
    "\n",
    "\n",
    "def time_logger(func):\n",
    "    @wraps(func)\n",
    "    def wrapper(self, *args, **kwargs):\n",
    "        start = time.time()\n",
    "        result = func(self, *args, **kwargs)\n",
    "        end = time.time()\n",
    "        print(f\"[{func.__name__}] executed in: {end-start} seconds\")\n",
    "        return result\n",
    "\n",
    "    return wrapper\n"
   ]
  },
  {
   "cell_type": "code",
   "execution_count": 2,
   "metadata": {},
   "outputs": [],
   "source": [
    "class GoodAsync:\n",
    "    @time_logger\n",
    "    async def get_complex_list(self, s):\n",
    "        a = await self.search_complex(s)\n",
    "        return a\n",
    "\n",
    "    @time_logger\n",
    "    async def search_complex(self, s):\n",
    "        a = await self.apt_scraper(s)\n",
    "        print(a)\n",
    "        return a\n",
    "\n",
    "    @time_logger\n",
    "    async def apt_scraper(self, s):\n",
    "        await asyncio.sleep(s)\n",
    "        return f\"[{datetime.now()}] awake {s}\""
   ]
  },
  {
   "cell_type": "code",
   "execution_count": 3,
   "metadata": {},
   "outputs": [],
   "source": [
    "class BadAsync:\n",
    "    @time_logger\n",
    "    async def get_complex_list(self, s):\n",
    "        a = await self.search_complex(s)\n",
    "        return a\n",
    "        \n",
    "    @time_logger\n",
    "    async def search_complex(self, s):\n",
    "        a = self.apt_scraper(s)\n",
    "        print(a)\n",
    "        return a\n",
    "\n",
    "    @time_logger\n",
    "    def apt_scraper(self, s):\n",
    "        time.sleep(s)\n",
    "        return f\"[{datetime.now()}] awake {s}\""
   ]
  },
  {
   "cell_type": "code",
   "execution_count": 4,
   "metadata": {},
   "outputs": [
    {
     "name": "stdout",
     "output_type": "stream",
     "text": [
      "[2024-01-18 16:36:23.905650 start time]\n",
      "[get_complex_list] executed in: 2.1457672119140625e-06 seconds\n",
      "[get_complex_list] executed in: 0.0 seconds\n",
      "[get_complex_list] executed in: 1.1920928955078125e-06 seconds\n",
      "Current event loop: <_UnixSelectorEventLoop running=True closed=False debug=False>\n",
      "[search_complex] executed in: 2.1457672119140625e-06 seconds\n",
      "[apt_scraper] executed in: 7.152557373046875e-07 seconds\n",
      "[search_complex] executed in: 0.0 seconds\n",
      "[apt_scraper] executed in: 9.5367431640625e-07 seconds\n",
      "[search_complex] executed in: 7.152557373046875e-07 seconds\n",
      "[apt_scraper] executed in: 1.1920928955078125e-06 seconds\n",
      "Current tasks: {<Task pending name='Task-7' coro=<GoodAsync.get_complex_list() running at /var/folders/0f/3kvptjj52h51rwnrbz5lvf6h0000gn/T/ipykernel_55890/236692989.py:4> wait_for=<Future pending cb=[Task.task_wakeup()]>>, <Task pending name='Task-5' coro=<InteractiveShell.run_cell_async() running at /Users/aohus/Library/Python/3.11/lib/python/site-packages/IPython/core/interactiveshell.py:3311> cb=[IPythonKernel._cancel_on_sigint.<locals>.cancel_unless_done(<Future pendi...ernel.py:326]>)() at /Users/aohus/Library/Python/3.11/lib/python/site-packages/ipykernel/ipkernel.py:326, Task.task_wakeup()]>, <Task pending name='Task-6' coro=<GoodAsync.get_complex_list() running at /var/folders/0f/3kvptjj52h51rwnrbz5lvf6h0000gn/T/ipykernel_55890/236692989.py:4> wait_for=<Future pending cb=[Task.task_wakeup()]>>, <Task pending name='Task-8' coro=<GoodAsync.get_complex_list() running at /var/folders/0f/3kvptjj52h51rwnrbz5lvf6h0000gn/T/ipykernel_55890/236692989.py:4> wait_for=<Future pending cb=[Task.task_wakeup()]>>, <Task pending name='Task-4' coro=<Kernel.dispatch_queue() running at /Users/aohus/Library/Python/3.11/lib/python/site-packages/ipykernel/kernelbase.py:542> wait_for=<Task pending name='Task-5' coro=<InteractiveShell.run_cell_async() running at /Users/aohus/Library/Python/3.11/lib/python/site-packages/IPython/core/interactiveshell.py:3311> cb=[IPythonKernel._cancel_on_sigint.<locals>.cancel_unless_done(<Future pendi...ernel.py:326]>)() at /Users/aohus/Library/Python/3.11/lib/python/site-packages/ipykernel/ipkernel.py:326, Task.task_wakeup()]> cb=[_wrap_awaitable.<locals>.<lambda>() at /Users/aohus/Library/Python/3.11/lib/python/site-packages/tornado/gen.py:852, IOLoop.add_future.<locals>.<lambda>() at /Users/aohus/Library/Python/3.11/lib/python/site-packages/tornado/ioloop.py:699]>}\n"
     ]
    },
    {
     "name": "stdout",
     "output_type": "stream",
     "text": [
      "[2024-01-18 16:36:33.906794] awake 10\n",
      "[2024-01-18 16:36:43.907498] awake 20\n",
      "[2024-01-18 16:36:53.907429] awake 30\n"
     ]
    }
   ],
   "source": [
    "good = True\n",
    "print(f\"[{datetime.now()} start time]\")\n",
    "if good:\n",
    "    good = GoodAsync()\n",
    "    asyncio.create_task(good.get_complex_list(20))\n",
    "    asyncio.create_task(good.get_complex_list(30))\n",
    "    asyncio.create_task(good.get_complex_list(10))\n",
    "else:\n",
    "    bad = BadAsync()\n",
    "    asyncio.create_task(bad.get_complex_list(20))\n",
    "    asyncio.create_task(bad.get_complex_list(30))\n",
    "    asyncio.create_task(bad.get_complex_list(10))\n",
    "\n",
    "# 현재 실행 중인 이벤트 루프 가져오기\n",
    "current_loop = asyncio.get_running_loop()\n",
    "print(f\"Current event loop: {current_loop}\")\n",
    "\n",
    "# 잠시 대기하여 모든 태스크가 스케줄링되도록 함\n",
    "await asyncio.sleep(0.1)\n",
    "\n",
    "# 현재 이벤트 루프의 모든 태스크 가져오기\n",
    "tasks = asyncio.all_tasks(current_loop)\n",
    "print(f\"Current tasks: {tasks}\")\n"
   ]
  },
  {
   "cell_type": "code",
   "execution_count": 5,
   "metadata": {},
   "outputs": [],
   "source": [
    "# {\n",
    "# <Task pending name='Task-1' \n",
    "# coro=<main() running at async.py:53> \n",
    "# cb=[_run_until_complete_cb() \n",
    "#     at /Users/aohus/.pyenv/versions/3.8.3/lib/python3.8/asyncio/base_events.py:184]>, \n",
    "\n",
    "# <Task pending name='Task-3' \n",
    "# coro=<GoodAsync.get_complex_list() running at async.py:23> \n",
    "# wait_for=<Future pending cb=[<TaskWakeupMethWrapper object at 0x10b1bfdf0>()]>>, \n",
    "\n",
    "# <Task pending name='Task-4' \n",
    "# coro=<GoodAsync.get_complex_list() running at async.py:23> \n",
    "# wait_for=<Future pending cb=[<TaskWakeupMethWrapper object at 0x10b1bfdc0>()]>>, \n",
    "\n",
    "# <Task pending name='Task-2' \n",
    "# coro=<GoodAsync.get_complex_list() running at async.py:23> \n",
    "# wait_for=<Future pending cb=[<TaskWakeupMethWrapper object at 0x10b1bfe20>()]>>\n",
    "# }"
   ]
  },
  {
   "cell_type": "code",
   "execution_count": 6,
   "metadata": {},
   "outputs": [],
   "source": [
    "# {\n",
    "# <Task pending name='Task-9' \n",
    "# coro=<GoodAsync.get_complex_list() running at /var/folders/0f/3kvptjj52h51rwnrbz5lvf6h0000gn/T/ipykernel_53711/236692989.py:4> \n",
    "# wait_for=<Future pending cb=[Task.task_wakeup()]>>, \n",
    "\n",
    "# <Task pending name='Task-6' \n",
    "# coro=<InteractiveShell.run_cell_async() running at /Users/aohus/Library/Python/3.11/lib/python/site-packages/IPython/core/interactiveshell.py:3311> \n",
    "# cb=[IPythonKernel._cancel_on_sigint.<locals>.cancel_unless_done(<Future pendi...ernel.py:326]>)() at /Users/aohus/Library/Python/3.11/lib/python/site-packages/ipykernel/ipkernel.py:326, Task.task_wakeup()]>, \n",
    "\n",
    "# <Task pending name='Task-8' \n",
    "# coro=<GoodAsync.get_complex_list() running at /var/folders/0f/3kvptjj52h51rwnrbz5lvf6h0000gn/T/ipykernel_53711/236692989.py:4> \n",
    "# wait_for=<Future pending cb=[Task.task_wakeup()]>>, \n",
    "\n",
    "# <Task pending name='Task-7' \n",
    "# coro=<GoodAsync.get_complex_list() running at /var/folders/0f/3kvptjj52h51rwnrbz5lvf6h0000gn/T/ipykernel_53711/236692989.py:4> \n",
    "# wait_for=<Future pending cb=[Task.task_wakeup()]>>, \n",
    "\n",
    "# <Task pending name='Task-4' \n",
    "# coro=<Kernel.dispatch_queue() running at /Users/aohus/Library/Python/3.11/lib/python/site-packages/ipykernel/kernelbase.py:542> \n",
    "# wait_for=<Task pending name='Task-6' \n",
    "#     coro=<InteractiveShell.run_cell_async() running at /Users/aohus/Library/Python/3.11/lib/python/site-packages/IPython/core/interactiveshell.py:3311> \n",
    "#     cb=[IPythonKernel._cancel_on_sigint.<locals>.cancel_unless_done(<Future pendi...ernel.py:326]>)() at /Users/aohus/Library/Python/3.11/lib/python/site-packages/ipykernel/ipkernel.py:326, Task.task_wakeup()]> \n",
    "#     cb=[_wrap_awaitable.<locals>.<lambda>() at /Users/aohus/Library/Python/3.11/lib/python/site-packages/tornado/gen.py:852, IOLoop.add_future.<locals>.<lambda>() at /Users/aohus/Library/Python/3.11/lib/python/site-packages/tornado/ioloop.py:699]>}\n"
   ]
  }
 ],
 "metadata": {
  "kernelspec": {
   "display_name": "Python 3",
   "language": "python",
   "name": "python3"
  },
  "language_info": {
   "codemirror_mode": {
    "name": "ipython",
    "version": 3
   },
   "file_extension": ".py",
   "mimetype": "text/x-python",
   "name": "python",
   "nbconvert_exporter": "python",
   "pygments_lexer": "ipython3",
   "version": "3.11.0"
  }
 },
 "nbformat": 4,
 "nbformat_minor": 2
}
